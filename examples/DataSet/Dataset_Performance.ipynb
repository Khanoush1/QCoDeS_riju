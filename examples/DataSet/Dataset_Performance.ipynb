{
 "cells": [
  {
   "cell_type": "markdown",
   "metadata": {},
   "source": [
    "# DataSet Performance\n",
    "\n",
    "This notebook shows the trade-off between inserting data into a database row-by-row and as binary blobs. Inserting the data row-by-row means that we have direct access to all the data and may perform queries directly on the values of the data. On the other hand, as we shall see, this is much slower than inserting the data directly as binary blobs."
   ]
  },
  {
   "cell_type": "markdown",
   "metadata": {},
   "source": [
    "First, we choose a new location for the database to ensure that we don't add a bunch of benchmarking data to the default one."
   ]
  },
  {
   "cell_type": "code",
   "execution_count": 1,
   "metadata": {
    "execution": {
     "iopub.execute_input": "2021-12-24T10:01:59.623942Z",
     "iopub.status.busy": "2021-12-24T10:01:59.623307Z",
     "iopub.status.idle": "2021-12-24T10:02:01.153014Z",
     "shell.execute_reply": "2021-12-24T10:02:01.152394Z"
    }
   },
   "outputs": [],
   "source": [
    "import os\n",
    "cwd = os.getcwd()\n",
    "import qcodes as qc\n",
    "qc.config[\"core\"][\"db_location\"] = os.path.join(cwd, 'testing.db')\n"
   ]
  },
  {
   "cell_type": "code",
   "execution_count": 2,
   "metadata": {
    "execution": {
     "iopub.execute_input": "2021-12-24T10:02:01.161817Z",
     "iopub.status.busy": "2021-12-24T10:02:01.161170Z",
     "iopub.status.idle": "2021-12-24T10:02:01.163500Z",
     "shell.execute_reply": "2021-12-24T10:02:01.163994Z"
    }
   },
   "outputs": [],
   "source": [
    "%matplotlib inline\n",
    "import time\n",
    "import matplotlib.pyplot as plt\n",
    "import numpy as np\n",
    "\n",
    "import qcodes as qc\n",
    "from qcodes.instrument.parameter import ManualParameter\n",
    "from qcodes.dataset.experiment_container import (Experiment,\n",
    "                                                 load_last_experiment,\n",
    "                                                 new_experiment)\n",
    "from qcodes.dataset.sqlite.database import initialise_database\n",
    "from qcodes import load_or_create_experiment\n",
    "from qcodes.dataset.measurements import Measurement"
   ]
  },
  {
   "cell_type": "code",
   "execution_count": 3,
   "metadata": {
    "execution": {
     "iopub.execute_input": "2021-12-24T10:02:01.169087Z",
     "iopub.status.busy": "2021-12-24T10:02:01.168279Z",
     "iopub.status.idle": "2021-12-24T10:02:01.289031Z",
     "shell.execute_reply": "2021-12-24T10:02:01.289542Z"
    }
   },
   "outputs": [
    {
     "name": "stdout",
     "output_type": "stream",
     "text": [
      "\r",
      "0it [00:00, ?it/s]"
     ]
    },
    {
     "name": "stdout",
     "output_type": "stream",
     "text": [
      "\r",
      "Upgrading database; v0 -> v1: : 0it [00:00, ?it/s]"
     ]
    },
    {
     "name": "stdout",
     "output_type": "stream",
     "text": [
      "\r",
      "Upgrading database; v0 -> v1: : 0it [00:00, ?it/s]"
     ]
    },
    {
     "name": "stdout",
     "output_type": "stream",
     "text": [
      "\n"
     ]
    },
    {
     "name": "stdout",
     "output_type": "stream",
     "text": [
      "\r",
      "  0%|          | 0/1 [00:00<?, ?it/s]"
     ]
    },
    {
     "name": "stdout",
     "output_type": "stream",
     "text": [
      "\r",
      "Upgrading database; v1 -> v2:   0%|          | 0/1 [00:00<?, ?it/s]"
     ]
    },
    {
     "name": "stdout",
     "output_type": "stream",
     "text": [
      "\r",
      "Upgrading database; v1 -> v2: 100%|██████████| 1/1 [00:00<00:00, 1049.63it/s]"
     ]
    },
    {
     "name": "stdout",
     "output_type": "stream",
     "text": [
      "\n"
     ]
    },
    {
     "name": "stdout",
     "output_type": "stream",
     "text": [
      "\r",
      "0it [00:00, ?it/s]"
     ]
    },
    {
     "name": "stdout",
     "output_type": "stream",
     "text": [
      "\r",
      "Upgrading database; v2 -> v3: : 0it [00:00, ?it/s]"
     ]
    },
    {
     "name": "stdout",
     "output_type": "stream",
     "text": [
      "\r",
      "Upgrading database; v2 -> v3: : 0it [00:00, ?it/s]"
     ]
    },
    {
     "name": "stdout",
     "output_type": "stream",
     "text": [
      "\n"
     ]
    },
    {
     "name": "stdout",
     "output_type": "stream",
     "text": [
      "\r",
      "0it [00:00, ?it/s]"
     ]
    },
    {
     "name": "stdout",
     "output_type": "stream",
     "text": [
      "\r",
      "Upgrading database; v3 -> v4: : 0it [00:00, ?it/s]"
     ]
    },
    {
     "name": "stdout",
     "output_type": "stream",
     "text": [
      "\r",
      "Upgrading database; v3 -> v4: : 0it [00:00, ?it/s]"
     ]
    },
    {
     "name": "stdout",
     "output_type": "stream",
     "text": [
      "\n"
     ]
    },
    {
     "name": "stdout",
     "output_type": "stream",
     "text": [
      "\r",
      "  0%|          | 0/1 [00:00<?, ?it/s]"
     ]
    },
    {
     "name": "stdout",
     "output_type": "stream",
     "text": [
      "\r",
      "Upgrading database; v4 -> v5:   0%|          | 0/1 [00:00<?, ?it/s]"
     ]
    },
    {
     "name": "stdout",
     "output_type": "stream",
     "text": [
      "\r",
      "Upgrading database; v4 -> v5: 100%|██████████| 1/1 [00:00<00:00, 568.72it/s]"
     ]
    },
    {
     "name": "stdout",
     "output_type": "stream",
     "text": [
      "\n"
     ]
    },
    {
     "name": "stdout",
     "output_type": "stream",
     "text": [
      "\r",
      "0it [00:00, ?it/s]"
     ]
    },
    {
     "name": "stdout",
     "output_type": "stream",
     "text": [
      "\r",
      "Upgrading database; v5 -> v6: : 0it [00:00, ?it/s]"
     ]
    },
    {
     "name": "stdout",
     "output_type": "stream",
     "text": [
      "\r",
      "Upgrading database; v5 -> v6: : 0it [00:00, ?it/s]"
     ]
    },
    {
     "name": "stdout",
     "output_type": "stream",
     "text": [
      "\n"
     ]
    },
    {
     "name": "stdout",
     "output_type": "stream",
     "text": [
      "\r",
      "  0%|          | 0/1 [00:00<?, ?it/s]"
     ]
    },
    {
     "name": "stdout",
     "output_type": "stream",
     "text": [
      "\r",
      "Upgrading database; v6 -> v7:   0%|          | 0/1 [00:00<?, ?it/s]"
     ]
    },
    {
     "name": "stdout",
     "output_type": "stream",
     "text": [
      "\r",
      "Upgrading database; v6 -> v7: 100%|██████████| 1/1 [00:00<00:00, 422.51it/s]"
     ]
    },
    {
     "name": "stdout",
     "output_type": "stream",
     "text": [
      "\n"
     ]
    },
    {
     "name": "stdout",
     "output_type": "stream",
     "text": [
      "\r",
      "  0%|          | 0/1 [00:00<?, ?it/s]"
     ]
    },
    {
     "name": "stdout",
     "output_type": "stream",
     "text": [
      "\r",
      "Upgrading database; v7 -> v8:   0%|          | 0/1 [00:00<?, ?it/s]"
     ]
    },
    {
     "name": "stdout",
     "output_type": "stream",
     "text": [
      "\r",
      "Upgrading database; v7 -> v8: 100%|██████████| 1/1 [00:00<00:00, 323.36it/s]"
     ]
    },
    {
     "name": "stdout",
     "output_type": "stream",
     "text": [
      "\n"
     ]
    },
    {
     "name": "stdout",
     "output_type": "stream",
     "text": [
      "\r",
      "  0%|          | 0/1 [00:00<?, ?it/s]"
     ]
    },
    {
     "name": "stdout",
     "output_type": "stream",
     "text": [
      "\r",
      "Upgrading database; v8 -> v9:   0%|          | 0/1 [00:00<?, ?it/s]"
     ]
    },
    {
     "name": "stdout",
     "output_type": "stream",
     "text": [
      "\r",
      "Upgrading database; v8 -> v9: 100%|██████████| 1/1 [00:00<00:00, 994.15it/s]"
     ]
    },
    {
     "name": "stdout",
     "output_type": "stream",
     "text": [
      "\n"
     ]
    }
   ],
   "source": [
    "initialise_database()\n",
    "exp = load_or_create_experiment(experiment_name='tutorial_exp', sample_name=\"no sample\")"
   ]
  },
  {
   "cell_type": "markdown",
   "metadata": {},
   "source": [
    "Here, we define a simple function to benchmark the time it takes to insert n points with either numeric or array data type.\n",
    "We will compare both the time used to call ``add_result`` and the time used for the full measurement."
   ]
  },
  {
   "cell_type": "code",
   "execution_count": 4,
   "metadata": {
    "execution": {
     "iopub.execute_input": "2021-12-24T10:02:01.298758Z",
     "iopub.status.busy": "2021-12-24T10:02:01.298051Z",
     "iopub.status.idle": "2021-12-24T10:02:01.300605Z",
     "shell.execute_reply": "2021-12-24T10:02:01.301033Z"
    }
   },
   "outputs": [],
   "source": [
    "def insert_data(paramtype, npoints, nreps=1):\n",
    "\n",
    "    meas = Measurement(exp=exp)\n",
    "\n",
    "    x1 = ManualParameter('x1')\n",
    "    x2 = ManualParameter('x2')\n",
    "    x3 = ManualParameter('x3')\n",
    "    y1 = ManualParameter('y1')\n",
    "    y2 = ManualParameter('y2')\n",
    "\n",
    "    meas.register_parameter(x1, paramtype=paramtype)\n",
    "    meas.register_parameter(x2, paramtype=paramtype)\n",
    "    meas.register_parameter(x3, paramtype=paramtype)\n",
    "    meas.register_parameter(y1, setpoints=[x1, x2, x3],\n",
    "                            paramtype=paramtype)\n",
    "    meas.register_parameter(y2, setpoints=[x1, x2, x3],\n",
    "                            paramtype=paramtype)\n",
    "    start = time.perf_counter()\n",
    "    with meas.run() as datasaver:\n",
    "        start_adding = time.perf_counter()\n",
    "        for i in range(nreps):\n",
    "            datasaver.add_result((x1, np.random.rand(npoints)),\n",
    "                                 (x2, np.random.rand(npoints)),\n",
    "                                 (x3, np.random.rand(npoints)),\n",
    "                                 (y1, np.random.rand(npoints)),\n",
    "                                 (y2, np.random.rand(npoints)))\n",
    "        stop_adding = time.perf_counter()\n",
    "        run_id = datasaver.run_id\n",
    "    stop = time.perf_counter()\n",
    "    tot_time = stop - start\n",
    "    add_time = stop_adding - start_adding\n",
    "    return tot_time, add_time, run_id"
   ]
  },
  {
   "cell_type": "markdown",
   "metadata": {},
   "source": [
    "## Comparison between numeric/array data and binary blob"
   ]
  },
  {
   "cell_type": "markdown",
   "metadata": {},
   "source": [
    "### Case1: Short experiment time"
   ]
  },
  {
   "cell_type": "code",
   "execution_count": 5,
   "metadata": {
    "execution": {
     "iopub.execute_input": "2021-12-24T10:02:01.308504Z",
     "iopub.status.busy": "2021-12-24T10:02:01.307874Z",
     "iopub.status.idle": "2021-12-24T10:02:02.148685Z",
     "shell.execute_reply": "2021-12-24T10:02:02.148183Z"
    }
   },
   "outputs": [
    {
     "name": "stdout",
     "output_type": "stream",
     "text": [
      "Starting experimental run with id: 1. \n",
      "Starting experimental run with id: 2. \n",
      "Starting experimental run with id: 3. \n"
     ]
    },
    {
     "name": "stdout",
     "output_type": "stream",
     "text": [
      "Starting experimental run with id: 4. \n",
      "Starting experimental run with id: 5. \n"
     ]
    },
    {
     "name": "stdout",
     "output_type": "stream",
     "text": [
      "Starting experimental run with id: 6. \n"
     ]
    },
    {
     "name": "stdout",
     "output_type": "stream",
     "text": [
      "Starting experimental run with id: 7. \n"
     ]
    },
    {
     "name": "stdout",
     "output_type": "stream",
     "text": [
      "Starting experimental run with id: 8. \n",
      "Starting experimental run with id: 9. \n"
     ]
    },
    {
     "name": "stdout",
     "output_type": "stream",
     "text": [
      "Starting experimental run with id: 10. \n",
      "Starting experimental run with id: 11. \n"
     ]
    },
    {
     "name": "stdout",
     "output_type": "stream",
     "text": [
      "Starting experimental run with id: 12. \n",
      "Starting experimental run with id: 13. \n"
     ]
    },
    {
     "name": "stdout",
     "output_type": "stream",
     "text": [
      "Starting experimental run with id: 14. \n"
     ]
    }
   ],
   "source": [
    "sizes = [1,500,1000,2000,3000,4000,5000]\n",
    "t_numeric = []\n",
    "t_numeric_add = []\n",
    "t_array = []\n",
    "t_array_add = []\n",
    "for size in sizes:\n",
    "    tn, tna, run_id_n =  insert_data('numeric', size)\n",
    "    t_numeric.append(tn)\n",
    "    t_numeric_add.append(tna)\n",
    "\n",
    "    ta, taa, run_id_a =  insert_data('array', size)\n",
    "    t_array.append(ta)\n",
    "    t_array_add.append(taa)"
   ]
  },
  {
   "cell_type": "code",
   "execution_count": 6,
   "metadata": {
    "execution": {
     "iopub.execute_input": "2021-12-24T10:02:02.177920Z",
     "iopub.status.busy": "2021-12-24T10:02:02.170877Z",
     "iopub.status.idle": "2021-12-24T10:02:02.357102Z",
     "shell.execute_reply": "2021-12-24T10:02:02.357543Z"
    }
   },
   "outputs": [
    {
     "data": {
      "image/png": "[encoded data removed]",
      "text/plain": [
       "<Figure size 432x288 with 1 Axes>"
      ]
     },
     "metadata": {
      "needs_background": "light"
     },
     "output_type": "display_data"
    }
   ],
   "source": [
    "fig, ax = plt.subplots(1,1)\n",
    "ax.plot(sizes, t_numeric, 'o-', label='Inserting row-by-row')\n",
    "ax.plot(sizes, t_numeric_add, 'o-', label='Inserting row-by-row: add_result only')\n",
    "ax.plot(sizes, t_array, 'd-', label='Inserting as binary blob')\n",
    "ax.plot(sizes, t_array_add, 'd-', label='Inserting as binary blob: add_result only')\n",
    "ax.legend()\n",
    "ax.set_xlabel('Array length')\n",
    "ax.set_ylabel('Time (s)')\n",
    "fig.tight_layout()"
   ]
  },
  {
   "cell_type": "markdown",
   "metadata": {},
   "source": [
    "As shown in the latter figure, the time to setup and and close the experiment is approximately 0.4 sec. In case of small array sizes, the difference between inserting values of data as arrays and inserting them row-by-row is relatively unimportant. At larger array sizes, i.e. above 10000 points, the cost of writing data as individual datapoints starts to become important.\n"
   ]
  },
  {
   "cell_type": "markdown",
   "metadata": {},
   "source": [
    "### Case2: Long experiment time "
   ]
  },
  {
   "cell_type": "code",
   "execution_count": 7,
   "metadata": {
    "execution": {
     "iopub.execute_input": "2021-12-24T10:02:02.364867Z",
     "iopub.status.busy": "2021-12-24T10:02:02.363950Z",
     "iopub.status.idle": "2021-12-24T10:03:00.764379Z",
     "shell.execute_reply": "2021-12-24T10:03:00.761591Z"
    }
   },
   "outputs": [
    {
     "name": "stdout",
     "output_type": "stream",
     "text": [
      "Starting experimental run with id: 15. \n",
      "Starting experimental run with id: 16. \n",
      "Starting experimental run with id: 17. \n"
     ]
    },
    {
     "name": "stdout",
     "output_type": "stream",
     "text": [
      "Starting experimental run with id: 18. \n",
      "Starting experimental run with id: 19. \n"
     ]
    },
    {
     "name": "stdout",
     "output_type": "stream",
     "text": [
      "Starting experimental run with id: 20. \n",
      "Starting experimental run with id: 21. \n"
     ]
    },
    {
     "name": "stdout",
     "output_type": "stream",
     "text": [
      "Starting experimental run with id: 22. \n"
     ]
    },
    {
     "name": "stdout",
     "output_type": "stream",
     "text": [
      "Starting experimental run with id: 23. \n"
     ]
    },
    {
     "name": "stdout",
     "output_type": "stream",
     "text": [
      "Starting experimental run with id: 24. \n"
     ]
    },
    {
     "name": "stdout",
     "output_type": "stream",
     "text": [
      "Starting experimental run with id: 25. \n"
     ]
    },
    {
     "name": "stdout",
     "output_type": "stream",
     "text": [
      "Starting experimental run with id: 26. \n"
     ]
    },
    {
     "name": "stdout",
     "output_type": "stream",
     "text": [
      "Starting experimental run with id: 27. \n"
     ]
    },
    {
     "name": "stdout",
     "output_type": "stream",
     "text": [
      "Starting experimental run with id: 28. \n"
     ]
    }
   ],
   "source": [
    "sizes = [1,500,1000,2000,3000,4000,5000]\n",
    "nreps = 100\n",
    "t_numeric = []\n",
    "t_numeric_add = []\n",
    "t_numeric_run_ids = []\n",
    "t_array = []\n",
    "t_array_add = []\n",
    "t_array_run_ids = []\n",
    "for size in sizes:\n",
    "    tn, tna, run_id_n =  insert_data('numeric', size, nreps=nreps)\n",
    "    t_numeric.append(tn)\n",
    "    t_numeric_add.append(tna)\n",
    "    t_numeric_run_ids.append(run_id_n)\n",
    "\n",
    "    ta, taa, run_id_a =  insert_data('array', size, nreps=nreps)\n",
    "    t_array.append(ta)\n",
    "    t_array_add.append(taa)\n",
    "    t_array_run_ids.append(run_id_a)"
   ]
  },
  {
   "cell_type": "code",
   "execution_count": 8,
   "metadata": {
    "execution": {
     "iopub.execute_input": "2021-12-24T10:03:00.767591Z",
     "iopub.status.busy": "2021-12-24T10:03:00.766950Z",
     "iopub.status.idle": "2021-12-24T10:03:00.978078Z",
     "shell.execute_reply": "2021-12-24T10:03:00.978630Z"
    },
    "scrolled": true
   },
   "outputs": [
    {
     "data": {
      "image/png": "[encoded data removed]",
      "text/plain": [
       "<Figure size 432x288 with 1 Axes>"
      ]
     },
     "metadata": {
      "needs_background": "light"
     },
     "output_type": "display_data"
    }
   ],
   "source": [
    "fig, ax = plt.subplots(1,1)\n",
    "ax.plot(sizes, t_numeric, 'o-', label='Inserting row-by-row')\n",
    "ax.plot(sizes, t_numeric_add, 'o-', label='Inserting row-by-row: add_result only')\n",
    "ax.plot(sizes, t_array, 'd-', label='Inserting as binary blob')\n",
    "ax.plot(sizes, t_array_add, 'd-', label='Inserting as binary blob: add_result only')\n",
    "ax.legend()\n",
    "ax.set_xlabel('Array length')\n",
    "ax.set_ylabel('Time (s)')\n",
    "fig.tight_layout()"
   ]
  },
  {
   "cell_type": "markdown",
   "metadata": {},
   "source": [
    "However, as we increase the length of the experiment, as seen here by repeating the insertion 100 times, we see a big difference between inserting values of the data row-by-row and inserting it as a binary blob."
   ]
  },
  {
   "cell_type": "markdown",
   "metadata": {},
   "source": [
    "## Loading the data "
   ]
  },
  {
   "cell_type": "code",
   "execution_count": 9,
   "metadata": {
    "execution": {
     "iopub.execute_input": "2021-12-24T10:03:00.985825Z",
     "iopub.status.busy": "2021-12-24T10:03:00.984103Z",
     "iopub.status.idle": "2021-12-24T10:03:00.986747Z",
     "shell.execute_reply": "2021-12-24T10:03:00.987352Z"
    }
   },
   "outputs": [],
   "source": [
    "from qcodes.dataset.data_set import load_by_id"
   ]
  },
  {
   "cell_type": "markdown",
   "metadata": {},
   "source": [
    "As usual you can load the data by using the ``load_by_id`` function but you will notice that the different storage methods\n",
    "are reflected in shape of the data as it is retrieved. "
   ]
  },
  {
   "cell_type": "code",
   "execution_count": 10,
   "metadata": {
    "execution": {
     "iopub.execute_input": "2021-12-24T10:03:00.993922Z",
     "iopub.status.busy": "2021-12-24T10:03:00.991846Z",
     "iopub.status.idle": "2021-12-24T10:03:00.994991Z",
     "shell.execute_reply": "2021-12-24T10:03:00.995642Z"
    }
   },
   "outputs": [],
   "source": [
    "run_id_n = t_numeric_run_ids[0]\n",
    "run_id_a = t_array_run_ids[0]"
   ]
  },
  {
   "cell_type": "code",
   "execution_count": 11,
   "metadata": {
    "execution": {
     "iopub.execute_input": "2021-12-24T10:03:00.999628Z",
     "iopub.status.busy": "2021-12-24T10:03:00.999016Z",
     "iopub.status.idle": "2021-12-24T10:03:01.008940Z",
     "shell.execute_reply": "2021-12-24T10:03:01.009452Z"
    },
    "scrolled": true
   },
   "outputs": [
    {
     "data": {
      "text/plain": [
       "{'x1': {'x1': array([0.98346323, 0.98346323, 0.65584798, 0.65584798, 0.66733559,\n",
       "         0.66733559, 0.30619644, 0.30619644, 0.04946706, 0.04946706,\n",
       "         0.79377042, 0.79377042, 0.50177803, 0.50177803, 0.81093752,\n",
       "         0.81093752, 0.09013717, 0.09013717, 0.29435584, 0.29435584,\n",
       "         0.12818378, 0.12818378, 0.41669424, 0.41669424, 0.53031799,\n",
       "         0.53031799, 0.53095825, 0.53095825, 0.59929441, 0.59929441,\n",
       "         0.09983021, 0.09983021, 0.96715588, 0.96715588, 0.45101916,\n",
       "         0.45101916, 0.64733275, 0.64733275, 0.89192536, 0.89192536,\n",
       "         0.50154755, 0.50154755, 0.46443093, 0.46443093, 0.33511493,\n",
       "         0.33511493, 0.02264334, 0.02264334, 0.72339294, 0.72339294,\n",
       "         0.30895387, 0.30895387, 0.09875527, 0.09875527, 0.87309607,\n",
       "         0.87309607, 0.96881218, 0.96881218, 0.26672966, 0.26672966,\n",
       "         0.37077948, 0.37077948, 0.84605533, 0.84605533, 0.25592963,\n",
       "         0.25592963, 0.97328604, 0.97328604, 0.07971541, 0.07971541,\n",
       "         0.77746611, 0.77746611, 0.2784212 , 0.2784212 , 0.31981222,\n",
       "         0.31981222, 0.63761088, 0.63761088, 0.68693179, 0.68693179,\n",
       "         0.79648565, 0.79648565, 0.78856785, 0.78856785, 0.37513135,\n",
       "         0.37513135, 0.82356343, 0.82356343, 0.50206894, 0.50206894,\n",
       "         0.05861581, 0.05861581, 0.06457169, 0.06457169, 0.86819348,\n",
       "         0.86819348, 0.29233563, 0.29233563, 0.66999188, 0.66999188,\n",
       "         0.13697364, 0.13697364, 0.46104437, 0.46104437, 0.57817646,\n",
       "         0.57817646, 0.06010462, 0.06010462, 0.2785399 , 0.2785399 ,\n",
       "         0.16726136, 0.16726136, 0.46890368, 0.46890368, 0.24166752,\n",
       "         0.24166752, 0.86789204, 0.86789204, 0.11929023, 0.11929023,\n",
       "         0.53552935, 0.53552935, 0.80600474, 0.80600474, 0.9884947 ,\n",
       "         0.9884947 , 0.42004418, 0.42004418, 0.06091554, 0.06091554,\n",
       "         0.20742622, 0.20742622, 0.69869929, 0.69869929, 0.45598418,\n",
       "         0.45598418, 0.26401183, 0.26401183, 0.26539202, 0.26539202,\n",
       "         0.00281247, 0.00281247, 0.84840542, 0.84840542, 0.73471475,\n",
       "         0.73471475, 0.63151933, 0.63151933, 0.50740178, 0.50740178,\n",
       "         0.66885035, 0.66885035, 0.64258416, 0.64258416, 0.08494083,\n",
       "         0.08494083, 0.34048829, 0.34048829, 0.1195143 , 0.1195143 ,\n",
       "         0.37469078, 0.37469078, 0.45086558, 0.45086558, 0.15530914,\n",
       "         0.15530914, 0.9529406 , 0.9529406 , 0.13218525, 0.13218525,\n",
       "         0.71470117, 0.71470117, 0.62654125, 0.62654125, 0.61847479,\n",
       "         0.61847479, 0.00421899, 0.00421899, 0.94253372, 0.94253372,\n",
       "         0.27542771, 0.27542771, 0.82270413, 0.82270413, 0.2275884 ,\n",
       "         0.2275884 , 0.12765433, 0.12765433, 0.74336061, 0.74336061,\n",
       "         0.84390786, 0.84390786, 0.78876756, 0.78876756, 0.36626485,\n",
       "         0.36626485, 0.71390531, 0.71390531, 0.68622187, 0.68622187])}}"
      ]
     },
     "execution_count": 11,
     "metadata": {},
     "output_type": "execute_result"
    }
   ],
   "source": [
    "ds = load_by_id(run_id_n)\n",
    "ds.get_parameter_data('x1')"
   ]
  },
  {
   "cell_type": "markdown",
   "metadata": {},
   "source": [
    "And a dataset stored as binary arrays"
   ]
  },
  {
   "cell_type": "code",
   "execution_count": 12,
   "metadata": {
    "execution": {
     "iopub.execute_input": "2021-12-24T10:03:01.013451Z",
     "iopub.status.busy": "2021-12-24T10:03:01.012827Z",
     "iopub.status.idle": "2021-12-24T10:03:01.076381Z",
     "shell.execute_reply": "2021-12-24T10:03:01.075318Z"
    },
    "scrolled": true
   },
   "outputs": [
    {
     "data": {
      "text/plain": [
       "{'x1': {'x1': array([[0.00126802],\n",
       "         [0.00126802],\n",
       "         [0.93263093],\n",
       "         [0.93263093],\n",
       "         [0.26629095],\n",
       "         [0.26629095],\n",
       "         [0.98526176],\n",
       "         [0.98526176],\n",
       "         [0.06000125],\n",
       "         [0.06000125],\n",
       "         [0.43485776],\n",
       "         [0.43485776],\n",
       "         [0.28636967],\n",
       "         [0.28636967],\n",
       "         [0.27249791],\n",
       "         [0.27249791],\n",
       "         [0.55118091],\n",
       "         [0.55118091],\n",
       "         [0.76903625],\n",
       "         [0.76903625],\n",
       "         [0.44246248],\n",
       "         [0.44246248],\n",
       "         [0.56264684],\n",
       "         [0.56264684],\n",
       "         [0.38265892],\n",
       "         [0.38265892],\n",
       "         [0.09400357],\n",
       "         [0.09400357],\n",
       "         [0.61595866],\n",
       "         [0.61595866],\n",
       "         [0.14237548],\n",
       "         [0.14237548],\n",
       "         [0.11834157],\n",
       "         [0.11834157],\n",
       "         [0.94714075],\n",
       "         [0.94714075],\n",
       "         [0.9264802 ],\n",
       "         [0.9264802 ],\n",
       "         [0.42796935],\n",
       "         [0.42796935],\n",
       "         [0.43417667],\n",
       "         [0.43417667],\n",
       "         [0.66135822],\n",
       "         [0.66135822],\n",
       "         [0.37809409],\n",
       "         [0.37809409],\n",
       "         [0.78996917],\n",
       "         [0.78996917],\n",
       "         [0.21331914],\n",
       "         [0.21331914],\n",
       "         [0.22428623],\n",
       "         [0.22428623],\n",
       "         [0.6027852 ],\n",
       "         [0.6027852 ],\n",
       "         [0.40970231],\n",
       "         [0.40970231],\n",
       "         [0.14940101],\n",
       "         [0.14940101],\n",
       "         [0.84775678],\n",
       "         [0.84775678],\n",
       "         [0.12741866],\n",
       "         [0.12741866],\n",
       "         [0.46738806],\n",
       "         [0.46738806],\n",
       "         [0.93795173],\n",
       "         [0.93795173],\n",
       "         [0.71267868],\n",
       "         [0.71267868],\n",
       "         [0.73114665],\n",
       "         [0.73114665],\n",
       "         [0.31880315],\n",
       "         [0.31880315],\n",
       "         [0.85992075],\n",
       "         [0.85992075],\n",
       "         [0.6863657 ],\n",
       "         [0.6863657 ],\n",
       "         [0.71132695],\n",
       "         [0.71132695],\n",
       "         [0.08718081],\n",
       "         [0.08718081],\n",
       "         [0.28048537],\n",
       "         [0.28048537],\n",
       "         [0.01202371],\n",
       "         [0.01202371],\n",
       "         [0.63555976],\n",
       "         [0.63555976],\n",
       "         [0.12317254],\n",
       "         [0.12317254],\n",
       "         [0.58250055],\n",
       "         [0.58250055],\n",
       "         [0.74842002],\n",
       "         [0.74842002],\n",
       "         [0.29721481],\n",
       "         [0.29721481],\n",
       "         [0.8984584 ],\n",
       "         [0.8984584 ],\n",
       "         [0.69441189],\n",
       "         [0.69441189],\n",
       "         [0.96833156],\n",
       "         [0.96833156],\n",
       "         [0.37712664],\n",
       "         [0.37712664],\n",
       "         [0.52419809],\n",
       "         [0.52419809],\n",
       "         [0.00579918],\n",
       "         [0.00579918],\n",
       "         [0.61272621],\n",
       "         [0.61272621],\n",
       "         [0.78067677],\n",
       "         [0.78067677],\n",
       "         [0.12691746],\n",
       "         [0.12691746],\n",
       "         [0.22899284],\n",
       "         [0.22899284],\n",
       "         [0.12749615],\n",
       "         [0.12749615],\n",
       "         [0.4285512 ],\n",
       "         [0.4285512 ],\n",
       "         [0.03930695],\n",
       "         [0.03930695],\n",
       "         [0.95437414],\n",
       "         [0.95437414],\n",
       "         [0.67457754],\n",
       "         [0.67457754],\n",
       "         [0.25277013],\n",
       "         [0.25277013],\n",
       "         [0.11403036],\n",
       "         [0.11403036],\n",
       "         [0.37558923],\n",
       "         [0.37558923],\n",
       "         [0.40623713],\n",
       "         [0.40623713],\n",
       "         [0.68750732],\n",
       "         [0.68750732],\n",
       "         [0.30856861],\n",
       "         [0.30856861],\n",
       "         [0.57878113],\n",
       "         [0.57878113],\n",
       "         [0.18251448],\n",
       "         [0.18251448],\n",
       "         [0.98325576],\n",
       "         [0.98325576],\n",
       "         [0.78452887],\n",
       "         [0.78452887],\n",
       "         [0.08578207],\n",
       "         [0.08578207],\n",
       "         [0.63080088],\n",
       "         [0.63080088],\n",
       "         [0.46584676],\n",
       "         [0.46584676],\n",
       "         [0.52058922],\n",
       "         [0.52058922],\n",
       "         [0.09373531],\n",
       "         [0.09373531],\n",
       "         [0.91474215],\n",
       "         [0.91474215],\n",
       "         [0.46863241],\n",
       "         [0.46863241],\n",
       "         [0.55988664],\n",
       "         [0.55988664],\n",
       "         [0.97949466],\n",
       "         [0.97949466],\n",
       "         [0.69628654],\n",
       "         [0.69628654],\n",
       "         [0.77868064],\n",
       "         [0.77868064],\n",
       "         [0.91135657],\n",
       "         [0.91135657],\n",
       "         [0.59860207],\n",
       "         [0.59860207],\n",
       "         [0.99853832],\n",
       "         [0.99853832],\n",
       "         [0.70894601],\n",
       "         [0.70894601],\n",
       "         [0.2541735 ],\n",
       "         [0.2541735 ],\n",
       "         [0.33965364],\n",
       "         [0.33965364],\n",
       "         [0.56219747],\n",
       "         [0.56219747],\n",
       "         [0.39646209],\n",
       "         [0.39646209],\n",
       "         [0.13722524],\n",
       "         [0.13722524],\n",
       "         [0.97284689],\n",
       "         [0.97284689],\n",
       "         [0.9096902 ],\n",
       "         [0.9096902 ],\n",
       "         [0.93600859],\n",
       "         [0.93600859],\n",
       "         [0.85201071],\n",
       "         [0.85201071],\n",
       "         [0.54129182],\n",
       "         [0.54129182],\n",
       "         [0.14636764],\n",
       "         [0.14636764],\n",
       "         [0.04005176],\n",
       "         [0.04005176],\n",
       "         [0.71380884],\n",
       "         [0.71380884]])}}"
      ]
     },
     "execution_count": 12,
     "metadata": {},
     "output_type": "execute_result"
    }
   ],
   "source": [
    "ds = load_by_id(run_id_a)\n",
    "ds.get_parameter_data('x1')"
   ]
  },
  {
   "cell_type": "code",
   "execution_count": null,
   "metadata": {},
   "outputs": [],
   "source": []
  }
 ],
 "metadata": {
  "kernelspec": {
   "display_name": "Python 3",
   "language": "python",
   "name": "python3"
  },
  "language_info": {
   "codemirror_mode": {
    "name": "ipython",
    "version": 3
   },
   "file_extension": ".py",
   "mimetype": "text/x-python",
   "name": "python",
   "nbconvert_exporter": "python",
   "pygments_lexer": "ipython3",
   "version": "3.9.9"
  },
  "nbsphinx": {
   "timeout": 600
  },
  "toc": {
   "base_numbering": 1,
   "nav_menu": {},
   "number_sections": true,
   "sideBar": true,
   "skip_h1_title": false,
   "title_cell": "Table of Contents",
   "title_sidebar": "Contents",
   "toc_cell": false,
   "toc_position": {},
   "toc_section_display": true,
   "toc_window_display": false
  },
  "varInspector": {
   "cols": {
    "lenName": 16,
    "lenType": 16,
    "lenVar": 40
   },
   "kernels_config": {
    "python": {
     "delete_cmd_postfix": "",
     "delete_cmd_prefix": "del ",
     "library": "var_list.py",
     "varRefreshCmd": "print(var_dic_list())"
    },
    "r": {
     "delete_cmd_postfix": ") ",
     "delete_cmd_prefix": "rm(",
     "library": "var_list.r",
     "varRefreshCmd": "cat(var_dic_list()) "
    }
   },
   "types_to_exclude": [
    "module",
    "function",
    "builtin_function_or_method",
    "instance",
    "_Feature"
   ],
   "window_display": false
  }
 },
 "nbformat": 4,
 "nbformat_minor": 4
}
