{
 "cells": [
  {
   "cell_type": "markdown",
   "metadata": {},
   "source": [
    "# Combined Parameters"
   ]
  },
  {
   "cell_type": "code",
   "execution_count": 1,
   "metadata": {
    "execution": {
     "iopub.execute_input": "2021-12-24T10:11:07.381296Z",
     "iopub.status.busy": "2021-12-24T10:11:07.380618Z",
     "iopub.status.idle": "2021-12-24T10:11:08.884067Z",
     "shell.execute_reply": "2021-12-24T10:11:08.883469Z"
    },
    "scrolled": false
   },
   "outputs": [],
   "source": [
    "import qcodes as qc\n",
    "import numpy as np \n",
    "\n",
    "from qcodes.instrument.parameter import ManualParameter\n",
    "from qcodes.utils.validators import Numbers\n",
    "from qcodes.loops import Loop"
   ]
  },
  {
   "cell_type": "markdown",
   "metadata": {},
   "source": [
    "If you want to sweep multiple parameters at once qcodes offers the combine function.\n",
    "You can combine any number of any kind paramter. \n",
    "We'll use a ManualParameter for this example."
   ]
  },
  {
   "cell_type": "code",
   "execution_count": 2,
   "metadata": {
    "execution": {
     "iopub.execute_input": "2021-12-24T10:11:08.889637Z",
     "iopub.status.busy": "2021-12-24T10:11:08.889066Z",
     "iopub.status.idle": "2021-12-24T10:11:08.892912Z",
     "shell.execute_reply": "2021-12-24T10:11:08.892445Z"
    }
   },
   "outputs": [],
   "source": [
    "p1 = ManualParameter('p1', vals=Numbers(-10, 10))\n",
    "p2 = ManualParameter('p2', vals=Numbers(-10, 10))\n",
    "p3 = ManualParameter('p3', vals=Numbers(-10, 10))\n",
    "p4 = ManualParameter('p4', vals=Numbers(-10, 10))\n",
    "# set to -1 so we get some data out\n",
    "p4.set(-1)"
   ]
  },
  {
   "cell_type": "markdown",
   "metadata": {},
   "source": [
    "##  Simple combined  parameters "
   ]
  },
  {
   "cell_type": "code",
   "execution_count": 3,
   "metadata": {
    "execution": {
     "iopub.execute_input": "2021-12-24T10:11:08.898353Z",
     "iopub.status.busy": "2021-12-24T10:11:08.896881Z",
     "iopub.status.idle": "2021-12-24T10:11:08.898994Z",
     "shell.execute_reply": "2021-12-24T10:11:08.899458Z"
    }
   },
   "outputs": [],
   "source": [
    "combined = qc.combine(p1, p2, p3, name='combined')\n",
    "\n",
    "sweep_vals = np.array([[1, 1,1], [1, 1,1]])\n"
   ]
  },
  {
   "cell_type": "code",
   "execution_count": 4,
   "metadata": {
    "execution": {
     "iopub.execute_input": "2021-12-24T10:11:08.903966Z",
     "iopub.status.busy": "2021-12-24T10:11:08.903413Z",
     "iopub.status.idle": "2021-12-24T10:11:08.906386Z",
     "shell.execute_reply": "2021-12-24T10:11:08.905903Z"
    }
   },
   "outputs": [],
   "source": [
    "# 2d loop with a inner loop over a combined parameter\n",
    "loop = Loop(p1.sweep(0,10,1)).loop(combined.sweep(sweep_vals), delay=0.001).each(p4)"
   ]
  },
  {
   "cell_type": "code",
   "execution_count": 5,
   "metadata": {
    "execution": {
     "iopub.execute_input": "2021-12-24T10:11:08.912213Z",
     "iopub.status.busy": "2021-12-24T10:11:08.910562Z",
     "iopub.status.idle": "2021-12-24T10:11:08.912918Z",
     "shell.execute_reply": "2021-12-24T10:11:08.913366Z"
    }
   },
   "outputs": [],
   "source": [
    "data = loop.get_data_set(name='testsweep')"
   ]
  },
  {
   "cell_type": "code",
   "execution_count": 6,
   "metadata": {
    "execution": {
     "iopub.execute_input": "2021-12-24T10:11:08.919561Z",
     "iopub.status.busy": "2021-12-24T10:11:08.918985Z",
     "iopub.status.idle": "2021-12-24T10:11:08.955183Z",
     "shell.execute_reply": "2021-12-24T10:11:08.955641Z"
    }
   },
   "outputs": [
    {
     "name": "stdout",
     "output_type": "stream",
     "text": [
      "Started at 2021-12-24 10:11:08\n",
      "DataSet:\n",
      "   location = 'data/2021-12-24/#001_testsweep_10-11-08'\n",
      "   <Type>   | <array_id>   | <array.name> | <array.shape>\n",
      "   Setpoint | p1_set       | p1           | (11,)\n",
      "   Setpoint | combined_set | combined     | (11, 2)\n",
      "   Measured | p4           | p4           | (11, 2)\n",
      "   Measured | p1           | p1           | (11, 2)\n",
      "   Measured | p2           | p2           | (11, 2)\n",
      "   Measured | p3           | p3           | (11, 2)\n",
      "Finished at 2021-12-24 10:11:08\n"
     ]
    }
   ],
   "source": [
    "data = loop.run()"
   ]
  },
  {
   "cell_type": "markdown",
   "metadata": {},
   "source": [
    "The combined_set just stores the indices "
   ]
  },
  {
   "cell_type": "code",
   "execution_count": 7,
   "metadata": {
    "execution": {
     "iopub.execute_input": "2021-12-24T10:11:08.961964Z",
     "iopub.status.busy": "2021-12-24T10:11:08.960334Z",
     "iopub.status.idle": "2021-12-24T10:11:08.963770Z",
     "shell.execute_reply": "2021-12-24T10:11:08.964332Z"
    }
   },
   "outputs": [
    {
     "name": "stdout",
     "output_type": "stream",
     "text": [
      "DataArray[11,2]: combined_set\n",
      "array([[0., 1.],\n",
      "       [0., 1.],\n",
      "       [0., 1.],\n",
      "       [0., 1.],\n",
      "       [0., 1.],\n",
      "       [0., 1.],\n",
      "       [0., 1.],\n",
      "       [0., 1.],\n",
      "       [0., 1.],\n",
      "       [0., 1.],\n",
      "       [0., 1.]])\n"
     ]
    }
   ],
   "source": [
    "print(data.combined_set)"
   ]
  },
  {
   "cell_type": "markdown",
   "metadata": {},
   "source": [
    "But the acutal set values are saved, but labeled as \"measured\""
   ]
  },
  {
   "cell_type": "code",
   "execution_count": 8,
   "metadata": {
    "execution": {
     "iopub.execute_input": "2021-12-24T10:11:08.970761Z",
     "iopub.status.busy": "2021-12-24T10:11:08.970168Z",
     "iopub.status.idle": "2021-12-24T10:11:08.972900Z",
     "shell.execute_reply": "2021-12-24T10:11:08.973329Z"
    }
   },
   "outputs": [
    {
     "data": {
      "text/plain": [
       "DataArray[11,2]: p3\n",
       "array([[1., 1.],\n",
       "       [1., 1.],\n",
       "       [1., 1.],\n",
       "       [1., 1.],\n",
       "       [1., 1.],\n",
       "       [1., 1.],\n",
       "       [1., 1.],\n",
       "       [1., 1.],\n",
       "       [1., 1.],\n",
       "       [1., 1.],\n",
       "       [1., 1.]])"
      ]
     },
     "execution_count": 8,
     "metadata": {},
     "output_type": "execute_result"
    }
   ],
   "source": [
    "data.p3"
   ]
  },
  {
   "cell_type": "markdown",
   "metadata": {},
   "source": [
    "## Combine and aggregate parameters\n",
    "\n",
    "If an aggregator function is given, the aggregated values are saved instead of the indices."
   ]
  },
  {
   "cell_type": "code",
   "execution_count": 9,
   "metadata": {
    "execution": {
     "iopub.execute_input": "2021-12-24T10:11:08.978631Z",
     "iopub.status.busy": "2021-12-24T10:11:08.977245Z",
     "iopub.status.idle": "2021-12-24T10:11:08.979261Z",
     "shell.execute_reply": "2021-12-24T10:11:08.979714Z"
    }
   },
   "outputs": [],
   "source": [
    "# define an aggregator function that takes as arguments the parameters you whish to aggegate\n",
    "def linear(x,y,z):\n",
    "    return x+y+z"
   ]
  },
  {
   "cell_type": "code",
   "execution_count": 10,
   "metadata": {
    "execution": {
     "iopub.execute_input": "2021-12-24T10:11:08.986249Z",
     "iopub.status.busy": "2021-12-24T10:11:08.985466Z",
     "iopub.status.idle": "2021-12-24T10:11:08.989951Z",
     "shell.execute_reply": "2021-12-24T10:11:08.989388Z"
    }
   },
   "outputs": [],
   "source": [
    "combined = qc.combine(p1, p2, p3, name='combined', label=\"Sum\", unit=\"a.u\", aggregator=linear)\n",
    "\n",
    "x_vals = np.linspace(1, 2, 2)\n",
    "y_vals = np.linspace(1, 2, 2)\n",
    "z_vals = np.linspace(1, 2, 2)\n",
    "\n"
   ]
  },
  {
   "cell_type": "code",
   "execution_count": 11,
   "metadata": {
    "execution": {
     "iopub.execute_input": "2021-12-24T10:11:08.994369Z",
     "iopub.status.busy": "2021-12-24T10:11:08.993819Z",
     "iopub.status.idle": "2021-12-24T10:11:08.996402Z",
     "shell.execute_reply": "2021-12-24T10:11:08.995925Z"
    }
   },
   "outputs": [],
   "source": [
    "# 2d loop with a inner loop over a combined parameter\n",
    "loop = Loop(p1.sweep(0,10,1)).loop(combined.sweep(x_vals, y_vals, z_vals), delay=0.001).each(p4)"
   ]
  },
  {
   "cell_type": "code",
   "execution_count": 12,
   "metadata": {
    "execution": {
     "iopub.execute_input": "2021-12-24T10:11:09.000671Z",
     "iopub.status.busy": "2021-12-24T10:11:09.000111Z",
     "iopub.status.idle": "2021-12-24T10:11:09.013020Z",
     "shell.execute_reply": "2021-12-24T10:11:09.002723Z"
    }
   },
   "outputs": [],
   "source": [
    "data = loop.get_data_set(name='testsweep')"
   ]
  },
  {
   "cell_type": "code",
   "execution_count": 13,
   "metadata": {
    "execution": {
     "iopub.execute_input": "2021-12-24T10:11:09.018048Z",
     "iopub.status.busy": "2021-12-24T10:11:09.017295Z",
     "iopub.status.idle": "2021-12-24T10:11:09.057815Z",
     "shell.execute_reply": "2021-12-24T10:11:09.057176Z"
    }
   },
   "outputs": [
    {
     "name": "stdout",
     "output_type": "stream",
     "text": [
      "Started at 2021-12-24 10:11:09\n",
      "DataSet:\n",
      "   location = 'data/2021-12-24/#002_testsweep_10-11-08'\n",
      "   <Type>   | <array_id>   | <array.name> | <array.shape>\n",
      "   Setpoint | p1_set       | p1           | (11,)\n",
      "   Setpoint | combined_set | combined     | (11, 2)\n",
      "   Measured | p4           | p4           | (11, 2)\n",
      "   Measured | p1           | p1           | (11, 2)\n",
      "   Measured | p2           | p2           | (11, 2)\n",
      "   Measured | p3           | p3           | (11, 2)\n",
      "Finished at 2021-12-24 10:11:09\n"
     ]
    }
   ],
   "source": [
    "data = loop.run()"
   ]
  },
  {
   "cell_type": "markdown",
   "metadata": {
    "collapsed": true
   },
   "source": [
    "the combined_set now stores the aggregated values"
   ]
  },
  {
   "cell_type": "code",
   "execution_count": 14,
   "metadata": {
    "execution": {
     "iopub.execute_input": "2021-12-24T10:11:09.062970Z",
     "iopub.status.busy": "2021-12-24T10:11:09.061610Z",
     "iopub.status.idle": "2021-12-24T10:11:09.066999Z",
     "shell.execute_reply": "2021-12-24T10:11:09.066480Z"
    }
   },
   "outputs": [
    {
     "name": "stdout",
     "output_type": "stream",
     "text": [
      "DataArray[11,2]: combined_set\n",
      "array([[3., 6.],\n",
      "       [3., 6.],\n",
      "       [3., 6.],\n",
      "       [3., 6.],\n",
      "       [3., 6.],\n",
      "       [3., 6.],\n",
      "       [3., 6.],\n",
      "       [3., 6.],\n",
      "       [3., 6.],\n",
      "       [3., 6.],\n",
      "       [3., 6.]])\n"
     ]
    }
   ],
   "source": [
    "print(data.combined_set)"
   ]
  },
  {
   "cell_type": "code",
   "execution_count": 15,
   "metadata": {
    "execution": {
     "iopub.execute_input": "2021-12-24T10:11:09.072931Z",
     "iopub.status.busy": "2021-12-24T10:11:09.072144Z",
     "iopub.status.idle": "2021-12-24T10:11:09.075434Z",
     "shell.execute_reply": "2021-12-24T10:11:09.074869Z"
    }
   },
   "outputs": [
    {
     "data": {
      "text/plain": [
       "OrderedDict([('__class__', 'qcodes.instrument.parameter.CombinedParameter'),\n",
       "             ('unit', 'a.u'),\n",
       "             ('label', 'Sum'),\n",
       "             ('full_name', 'combined'),\n",
       "             ('aggregator', '<function linear at 0x7f5da3ac9040>'),\n",
       "             ('p1',\n",
       "              {'__class__': 'qcodes.instrument.parameter.ManualParameter',\n",
       "               'full_name': 'p1',\n",
       "               'value': 2.0,\n",
       "               'raw_value': 2.0,\n",
       "               'ts': '2021-12-24 10:11:09',\n",
       "               'vals': '<Numbers -10<=v<=10>',\n",
       "               'post_delay': 0,\n",
       "               'name': 'p1',\n",
       "               'label': 'p1',\n",
       "               'inter_delay': 0,\n",
       "               'unit': ''}),\n",
       "             ('p2',\n",
       "              {'__class__': 'qcodes.instrument.parameter.ManualParameter',\n",
       "               'full_name': 'p2',\n",
       "               'value': 2.0,\n",
       "               'raw_value': 2.0,\n",
       "               'ts': '2021-12-24 10:11:09',\n",
       "               'vals': '<Numbers -10<=v<=10>',\n",
       "               'post_delay': 0,\n",
       "               'name': 'p2',\n",
       "               'label': 'p2',\n",
       "               'inter_delay': 0,\n",
       "               'unit': ''}),\n",
       "             ('p3',\n",
       "              {'__class__': 'qcodes.instrument.parameter.ManualParameter',\n",
       "               'full_name': 'p3',\n",
       "               'value': 2.0,\n",
       "               'raw_value': 2.0,\n",
       "               'ts': '2021-12-24 10:11:09',\n",
       "               'vals': '<Numbers -10<=v<=10>',\n",
       "               'post_delay': 0,\n",
       "               'name': 'p3',\n",
       "               'label': 'p3',\n",
       "               'inter_delay': 0,\n",
       "               'unit': ''})])"
      ]
     },
     "execution_count": 15,
     "metadata": {},
     "output_type": "execute_result"
    }
   ],
   "source": [
    "# snapshot of the combined parameter\n",
    "combined.snapshot()"
   ]
  },
  {
   "cell_type": "code",
   "execution_count": null,
   "metadata": {},
   "outputs": [],
   "source": []
  }
 ],
 "metadata": {
  "anaconda-cloud": {},
  "kernelspec": {
   "display_name": "Python 3",
   "language": "python",
   "name": "python3"
  },
  "language_info": {
   "codemirror_mode": {
    "name": "ipython",
    "version": 3
   },
   "file_extension": ".py",
   "mimetype": "text/x-python",
   "name": "python",
   "nbconvert_exporter": "python",
   "pygments_lexer": "ipython3",
   "version": "3.9.9"
  },
  "toc": {
   "base_numbering": 1,
   "nav_menu": {},
   "number_sections": true,
   "sideBar": true,
   "skip_h1_title": false,
   "title_cell": "Table of Contents",
   "title_sidebar": "Contents",
   "toc_cell": false,
   "toc_position": {},
   "toc_section_display": true,
   "toc_window_display": false
  },
  "varInspector": {
   "cols": {
    "lenName": 16,
    "lenType": 16,
    "lenVar": 40
   },
   "kernels_config": {
    "python": {
     "delete_cmd_postfix": "",
     "delete_cmd_prefix": "del ",
     "library": "var_list.py",
     "varRefreshCmd": "print(var_dic_list())"
    },
    "r": {
     "delete_cmd_postfix": ") ",
     "delete_cmd_prefix": "rm(",
     "library": "var_list.r",
     "varRefreshCmd": "cat(var_dic_list()) "
    }
   },
   "types_to_exclude": [
    "module",
    "function",
    "builtin_function_or_method",
    "instance",
    "_Feature"
   ],
   "window_display": false
  }
 },
 "nbformat": 4,
 "nbformat_minor": 1
}
