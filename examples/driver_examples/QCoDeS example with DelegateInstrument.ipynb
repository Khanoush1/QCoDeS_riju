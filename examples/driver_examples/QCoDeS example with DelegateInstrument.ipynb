{
 "cells": [
  {
   "cell_type": "markdown",
   "id": "plain-primary",
   "metadata": {},
   "source": [
    "# Qcodes example with DelegateInstrument driver\n",
    "\n",
    "This notebooks explains how to use the `DelegateInstrument` driver.\n",
    "\n",
    "## About\n",
    "The goal of the `DelegateInstrument` driver is to make it easier to combine different parameters together into a new \"virtual\" instrument. Each parameter on a `DelegateInstrument` can point to one or more parameters on other instruments in the station.\n",
    "\n",
    "## Usage\n",
    "The way it's used is mainly by specifying an entry in the station YAML. For instance, let's say you want to use a magnetic field coil. The driver has a method set_field(value, block), that by default is set to block=True, which means the field is ramped in a way that blocks further execution until the desired value is reached. However, let's say you are creating a measurement in which you want the parameter to be set, and while the value is ramping, you want to measure other parameters. This can be done by using `DelegateInstrument` and specifying a custom `setter` for the parameter that gets and sets the magnetic field.\n",
    "\n",
    "By default, each parameter is represented by a `DelegateParameter`. The `DelegateInstrument` also supports passing multiple source parameters to a given parameter. In order to do this, simply specify multiple parameters in the dictionary values  under the `parameters` key.\n",
    "\n",
    "It can also add instrument channels, specified under a separate key `channels`, shown in the second half of the notebook."
   ]
  },
  {
   "cell_type": "code",
   "execution_count": 1,
   "id": "sapphire-quebec",
   "metadata": {
    "execution": {
     "iopub.execute_input": "2021-12-24T10:09:01.894788Z",
     "iopub.status.busy": "2021-12-24T10:09:01.893426Z",
     "iopub.status.idle": "2021-12-24T10:09:01.900650Z",
     "shell.execute_reply": "2021-12-24T10:09:01.901146Z"
    }
   },
   "outputs": [
    {
     "name": "stdout",
     "output_type": "stream",
     "text": [
      "Writing example.yaml\n"
     ]
    }
   ],
   "source": [
    "%%writefile example.yaml\n",
    "\n",
    "instruments:\n",
    "  field_X:\n",
    "    type: qcodes.tests.instrument_mocks.MockField\n",
    "\n",
    "  field:\n",
    "    type: qcodes.instrument.delegate.DelegateInstrument\n",
    "    init:\n",
    "      parameters:\n",
    "        X:\n",
    "          - field_X.field\n",
    "        ramp_rate:\n",
    "          - field_X.ramp_rate\n",
    "        combined:\n",
    "          - field_X.field\n",
    "          - field_X.ramp_rate\n",
    "      set_initial_values_on_load: true\n",
    "      initial_values:\n",
    "        ramp_rate: 1.0\n",
    "      setters:\n",
    "        X:\n",
    "          method: field_X.set_field\n",
    "          block: false"
   ]
  },
  {
   "cell_type": "code",
   "execution_count": 2,
   "id": "younger-newspaper",
   "metadata": {
    "execution": {
     "iopub.execute_input": "2021-12-24T10:09:01.905675Z",
     "iopub.status.busy": "2021-12-24T10:09:01.904526Z",
     "iopub.status.idle": "2021-12-24T10:09:03.393267Z",
     "shell.execute_reply": "2021-12-24T10:09:03.394092Z"
    }
   },
   "outputs": [],
   "source": [
    "import qcodes as qc"
   ]
  },
  {
   "cell_type": "code",
   "execution_count": 3,
   "id": "muslim-briefs",
   "metadata": {
    "execution": {
     "iopub.execute_input": "2021-12-24T10:09:03.398001Z",
     "iopub.status.busy": "2021-12-24T10:09:03.396875Z",
     "iopub.status.idle": "2021-12-24T10:09:03.415147Z",
     "shell.execute_reply": "2021-12-24T10:09:03.415976Z"
    }
   },
   "outputs": [],
   "source": [
    "station = qc.Station(config_file=\"example.yaml\")"
   ]
  },
  {
   "cell_type": "code",
   "execution_count": 4,
   "id": "greatest-antenna",
   "metadata": {
    "execution": {
     "iopub.execute_input": "2021-12-24T10:09:03.419663Z",
     "iopub.status.busy": "2021-12-24T10:09:03.418516Z",
     "iopub.status.idle": "2021-12-24T10:09:03.450971Z",
     "shell.execute_reply": "2021-12-24T10:09:03.451828Z"
    }
   },
   "outputs": [],
   "source": [
    "field_X = station.load_field_X()\n",
    "field = station.load_field(station=station)"
   ]
  },
  {
   "cell_type": "code",
   "execution_count": 5,
   "id": "every-playing",
   "metadata": {
    "execution": {
     "iopub.execute_input": "2021-12-24T10:09:03.455494Z",
     "iopub.status.busy": "2021-12-24T10:09:03.454423Z",
     "iopub.status.idle": "2021-12-24T10:09:03.463090Z",
     "shell.execute_reply": "2021-12-24T10:09:03.463855Z"
    }
   },
   "outputs": [
    {
     "data": {
      "text/plain": [
       "0.0"
      ]
     },
     "execution_count": 5,
     "metadata": {},
     "output_type": "execute_result"
    }
   ],
   "source": [
    "field.X()"
   ]
  },
  {
   "cell_type": "code",
   "execution_count": 6,
   "id": "undefined-worst",
   "metadata": {
    "execution": {
     "iopub.execute_input": "2021-12-24T10:09:03.467204Z",
     "iopub.status.busy": "2021-12-24T10:09:03.466112Z",
     "iopub.status.idle": "2021-12-24T10:09:03.470434Z",
     "shell.execute_reply": "2021-12-24T10:09:03.471193Z"
    }
   },
   "outputs": [],
   "source": [
    "field.X(1.)"
   ]
  },
  {
   "cell_type": "code",
   "execution_count": 7,
   "id": "recreational-suggestion",
   "metadata": {
    "execution": {
     "iopub.execute_input": "2021-12-24T10:09:03.474685Z",
     "iopub.status.busy": "2021-12-24T10:09:03.473589Z",
     "iopub.status.idle": "2021-12-24T10:09:03.479933Z",
     "shell.execute_reply": "2021-12-24T10:09:03.480666Z"
    }
   },
   "outputs": [
    {
     "data": {
      "text/plain": [
       "0.00012465318044026694"
      ]
     },
     "execution_count": 7,
     "metadata": {},
     "output_type": "execute_result"
    }
   ],
   "source": [
    "field.X()"
   ]
  },
  {
   "cell_type": "code",
   "execution_count": 8,
   "id": "adopted-exchange",
   "metadata": {
    "execution": {
     "iopub.execute_input": "2021-12-24T10:09:03.484195Z",
     "iopub.status.busy": "2021-12-24T10:09:03.483171Z",
     "iopub.status.idle": "2021-12-24T10:09:03.489382Z",
     "shell.execute_reply": "2021-12-24T10:09:03.490212Z"
    }
   },
   "outputs": [
    {
     "data": {
      "text/plain": [
       "0.00028166770935058596"
      ]
     },
     "execution_count": 8,
     "metadata": {},
     "output_type": "execute_result"
    }
   ],
   "source": [
    "field.X()"
   ]
  },
  {
   "cell_type": "code",
   "execution_count": 9,
   "id": "bound-broadcasting",
   "metadata": {
    "execution": {
     "iopub.execute_input": "2021-12-24T10:09:03.493774Z",
     "iopub.status.busy": "2021-12-24T10:09:03.492743Z",
     "iopub.status.idle": "2021-12-24T10:09:03.498932Z",
     "shell.execute_reply": "2021-12-24T10:09:03.499702Z"
    }
   },
   "outputs": [
    {
     "data": {
      "text/plain": [
       "0.0004410306612650553"
      ]
     },
     "execution_count": 9,
     "metadata": {},
     "output_type": "execute_result"
    }
   ],
   "source": [
    "field.X()"
   ]
  },
  {
   "cell_type": "code",
   "execution_count": 10,
   "id": "casual-ghost",
   "metadata": {
    "execution": {
     "iopub.execute_input": "2021-12-24T10:09:03.503307Z",
     "iopub.status.busy": "2021-12-24T10:09:03.501973Z",
     "iopub.status.idle": "2021-12-24T10:09:03.508560Z",
     "shell.execute_reply": "2021-12-24T10:09:03.509326Z"
    }
   },
   "outputs": [
    {
     "data": {
      "text/plain": [
       "0.0006016810735066731"
      ]
     },
     "execution_count": 10,
     "metadata": {},
     "output_type": "execute_result"
    }
   ],
   "source": [
    "field.X()"
   ]
  },
  {
   "cell_type": "markdown",
   "id": "alike-process",
   "metadata": {},
   "source": [
    "As you can see, the field is now ramped in the background with the specified ramp rate. Now, let's try to create a measurement that uses this ability, and ramps the field in the background while measuring:"
   ]
  },
  {
   "cell_type": "code",
   "execution_count": 11,
   "id": "sustained-tiger",
   "metadata": {
    "execution": {
     "iopub.execute_input": "2021-12-24T10:09:03.513670Z",
     "iopub.status.busy": "2021-12-24T10:09:03.511633Z",
     "iopub.status.idle": "2021-12-24T10:09:03.519179Z",
     "shell.execute_reply": "2021-12-24T10:09:03.519920Z"
    }
   },
   "outputs": [],
   "source": [
    "field.ramp_rate(10.)\n",
    "field_X.field(0.0)"
   ]
  },
  {
   "cell_type": "code",
   "execution_count": 12,
   "id": "pharmaceutical-partition",
   "metadata": {
    "execution": {
     "iopub.execute_input": "2021-12-24T10:09:03.524664Z",
     "iopub.status.busy": "2021-12-24T10:09:03.522199Z",
     "iopub.status.idle": "2021-12-24T10:09:03.528737Z",
     "shell.execute_reply": "2021-12-24T10:09:03.529172Z"
    }
   },
   "outputs": [
    {
     "data": {
      "text/plain": [
       "0.0"
      ]
     },
     "execution_count": 12,
     "metadata": {},
     "output_type": "execute_result"
    }
   ],
   "source": [
    "field.X()"
   ]
  },
  {
   "cell_type": "code",
   "execution_count": 13,
   "id": "happy-ordinance",
   "metadata": {
    "execution": {
     "iopub.execute_input": "2021-12-24T10:09:03.537659Z",
     "iopub.status.busy": "2021-12-24T10:09:03.536907Z",
     "iopub.status.idle": "2021-12-24T10:09:04.767671Z",
     "shell.execute_reply": "2021-12-24T10:09:04.767144Z"
    }
   },
   "outputs": [
    {
     "name": "stdout",
     "output_type": "stream",
     "text": [
      "Starting experimental run with id: 60. \n"
     ]
    }
   ],
   "source": [
    "import time\n",
    "meas = qc.Measurement(station=station)\n",
    "meas.register_parameter(field.X)\n",
    "\n",
    "with meas.run() as datasaver:\n",
    "    for B in [0.1, 0.0]:\n",
    "        field.X(B)\n",
    "        while field.X() != B:\n",
    "            datasaver.add_result((field.X, field.X()))\n",
    "            time.sleep(0.01)\n",
    "    datasaver.flush_data_to_database()"
   ]
  },
  {
   "cell_type": "code",
   "execution_count": 14,
   "id": "short-medium",
   "metadata": {
    "execution": {
     "iopub.execute_input": "2021-12-24T10:09:04.771867Z",
     "iopub.status.busy": "2021-12-24T10:09:04.771263Z",
     "iopub.status.idle": "2021-12-24T10:09:04.933114Z",
     "shell.execute_reply": "2021-12-24T10:09:04.933584Z"
    }
   },
   "outputs": [
    {
     "data": {
      "text/plain": [
       "<AxesSubplot:>"
      ]
     },
     "execution_count": 14,
     "metadata": {},
     "output_type": "execute_result"
    },
    {
     "data": {
      "image/png": "[encoded data removed]",
      "text/plain": [
       "<Figure size 432x288 with 1 Axes>"
      ]
     },
     "metadata": {
      "needs_background": "light"
     },
     "output_type": "display_data"
    }
   ],
   "source": [
    "datasaver.dataset.to_pandas_dataframe().plot()"
   ]
  },
  {
   "cell_type": "markdown",
   "id": "incomplete-vietnamese",
   "metadata": {},
   "source": [
    "When specifying multiple source parameters on a given parameter, the grouped parameter will automatically return a `namedtuple` that returns both values."
   ]
  },
  {
   "cell_type": "code",
   "execution_count": 15,
   "id": "dangerous-finder",
   "metadata": {
    "execution": {
     "iopub.execute_input": "2021-12-24T10:09:04.938539Z",
     "iopub.status.busy": "2021-12-24T10:09:04.937986Z",
     "iopub.status.idle": "2021-12-24T10:09:04.942410Z",
     "shell.execute_reply": "2021-12-24T10:09:04.941836Z"
    }
   },
   "outputs": [
    {
     "data": {
      "text/plain": [
       "combined(field=0.0, ramp_rate=10.0)"
      ]
     },
     "execution_count": 15,
     "metadata": {},
     "output_type": "execute_result"
    }
   ],
   "source": [
    "field.combined()"
   ]
  },
  {
   "cell_type": "markdown",
   "id": "consolidated-cooper",
   "metadata": {},
   "source": [
    "We can now also create a custom parameter that does a simple calculation based on the current parameters."
   ]
  },
  {
   "cell_type": "code",
   "execution_count": 16,
   "id": "designed-bloom",
   "metadata": {
    "execution": {
     "iopub.execute_input": "2021-12-24T10:09:04.949147Z",
     "iopub.status.busy": "2021-12-24T10:09:04.947576Z",
     "iopub.status.idle": "2021-12-24T10:09:04.949879Z",
     "shell.execute_reply": "2021-12-24T10:09:04.950355Z"
    }
   },
   "outputs": [],
   "source": [
    "import numpy as np\n",
    "\n",
    "def calculate_ramp_time(X, ramp_rate):\n",
    "    \"\"\"Calculate ramp time in seconds\"\"\"\n",
    "    dfield = np.abs(field.target_field - X)\n",
    "    return 60. * dfield/ramp_rate"
   ]
  },
  {
   "cell_type": "code",
   "execution_count": 17,
   "id": "disabled-logic",
   "metadata": {
    "execution": {
     "iopub.execute_input": "2021-12-24T10:09:04.955549Z",
     "iopub.status.busy": "2021-12-24T10:09:04.954264Z",
     "iopub.status.idle": "2021-12-24T10:09:04.956458Z",
     "shell.execute_reply": "2021-12-24T10:09:04.956925Z"
    },
    "scrolled": true
   },
   "outputs": [],
   "source": [
    "field._create_and_add_parameter(\n",
    "    group_name=\"ramp_time\",\n",
    "    station=station,\n",
    "    paths=[\"field_X.field\", \"field_X.ramp_rate\"],\n",
    "    formatter=calculate_ramp_time\n",
    ")"
   ]
  },
  {
   "cell_type": "code",
   "execution_count": 18,
   "id": "adverse-february",
   "metadata": {
    "execution": {
     "iopub.execute_input": "2021-12-24T10:09:04.962749Z",
     "iopub.status.busy": "2021-12-24T10:09:04.961704Z",
     "iopub.status.idle": "2021-12-24T10:09:04.964949Z",
     "shell.execute_reply": "2021-12-24T10:09:04.964482Z"
    }
   },
   "outputs": [
    {
     "data": {
      "text/plain": [
       "6.0"
      ]
     },
     "execution_count": 18,
     "metadata": {},
     "output_type": "execute_result"
    }
   ],
   "source": [
    "field.ramp_rate(1.0)\n",
    "field.target_field = 0.1\n",
    "field.ramp_time()"
   ]
  },
  {
   "cell_type": "code",
   "execution_count": 19,
   "id": "statutory-xerox",
   "metadata": {
    "execution": {
     "iopub.execute_input": "2021-12-24T10:09:04.968633Z",
     "iopub.status.busy": "2021-12-24T10:09:04.968089Z",
     "iopub.status.idle": "2021-12-24T10:09:04.970163Z",
     "shell.execute_reply": "2021-12-24T10:09:04.970625Z"
    }
   },
   "outputs": [],
   "source": [
    "field.X(0.1)"
   ]
  },
  {
   "cell_type": "code",
   "execution_count": 20,
   "id": "varying-auditor",
   "metadata": {
    "execution": {
     "iopub.execute_input": "2021-12-24T10:09:04.974727Z",
     "iopub.status.busy": "2021-12-24T10:09:04.974107Z",
     "iopub.status.idle": "2021-12-24T10:09:04.977789Z",
     "shell.execute_reply": "2021-12-24T10:09:04.977211Z"
    }
   },
   "outputs": [
    {
     "data": {
      "text/plain": [
       "5.994266986846924"
      ]
     },
     "execution_count": 20,
     "metadata": {},
     "output_type": "execute_result"
    }
   ],
   "source": [
    "field.ramp_time()"
   ]
  },
  {
   "cell_type": "code",
   "execution_count": 21,
   "id": "chubby-nickel",
   "metadata": {
    "execution": {
     "iopub.execute_input": "2021-12-24T10:09:04.981333Z",
     "iopub.status.busy": "2021-12-24T10:09:04.980769Z",
     "iopub.status.idle": "2021-12-24T10:09:05.988258Z",
     "shell.execute_reply": "2021-12-24T10:09:05.988980Z"
    }
   },
   "outputs": [
    {
     "data": {
      "text/plain": [
       "4.9858059883117685"
      ]
     },
     "execution_count": 21,
     "metadata": {},
     "output_type": "execute_result"
    }
   ],
   "source": [
    "import time\n",
    "time.sleep(1.)\n",
    "field.ramp_time()"
   ]
  },
  {
   "cell_type": "code",
   "execution_count": 22,
   "id": "italian-liberty",
   "metadata": {
    "execution": {
     "iopub.execute_input": "2021-12-24T10:09:05.994298Z",
     "iopub.status.busy": "2021-12-24T10:09:05.993534Z",
     "iopub.status.idle": "2021-12-24T10:09:06.998914Z",
     "shell.execute_reply": "2021-12-24T10:09:06.999440Z"
    }
   },
   "outputs": [
    {
     "data": {
      "text/plain": [
       "3.9734125137329106"
      ]
     },
     "execution_count": 22,
     "metadata": {},
     "output_type": "execute_result"
    }
   ],
   "source": [
    "import time\n",
    "time.sleep(1.)\n",
    "field.ramp_time()"
   ]
  },
  {
   "cell_type": "markdown",
   "id": "5d455109",
   "metadata": {},
   "source": [
    "# Devices with channels"
   ]
  },
  {
   "cell_type": "markdown",
   "id": "8064d9b1",
   "metadata": {},
   "source": [
    "The YAML file below specifies the instruments with the channels/parameters we wish to group into a new instrument, here called \"device\". The first example simply adds the channel 'as is' using self.add_submodule, while the readout parameter is added as a DelegateParameter."
   ]
  },
  {
   "cell_type": "code",
   "execution_count": 23,
   "id": "ea5eedc7",
   "metadata": {
    "execution": {
     "iopub.execute_input": "2021-12-24T10:09:07.005006Z",
     "iopub.status.busy": "2021-12-24T10:09:07.002022Z",
     "iopub.status.idle": "2021-12-24T10:09:07.007650Z",
     "shell.execute_reply": "2021-12-24T10:09:07.007068Z"
    }
   },
   "outputs": [
    {
     "name": "stdout",
     "output_type": "stream",
     "text": [
      "Overwriting example.yaml\n"
     ]
    }
   ],
   "source": [
    "%%writefile example.yaml\n",
    "\n",
    "instruments:\n",
    "  lockin:\n",
    "    type: qcodes.tests.instrument_mocks.MockLockin\n",
    "\n",
    "  dac:\n",
    "    type: qcodes.tests.instrument_mocks.MockDAC   \n",
    "\n",
    "  device:\n",
    "    type: qcodes.instrument.delegate.DelegateInstrument\n",
    "    init:\n",
    "      parameters:\n",
    "        readout: lockin.X\n",
    "      channels:\n",
    "        gate_1: dac.ch01\n",
    "      set_initial_values_on_load: true\n",
    "      initial_values:\n",
    "        readout: 1e-5\n",
    "        gate_1.voltage.post_delay: 0.01"
   ]
  },
  {
   "cell_type": "code",
   "execution_count": 24,
   "id": "2e3792f3",
   "metadata": {
    "execution": {
     "iopub.execute_input": "2021-12-24T10:09:07.011758Z",
     "iopub.status.busy": "2021-12-24T10:09:07.011183Z",
     "iopub.status.idle": "2021-12-24T10:09:07.023541Z",
     "shell.execute_reply": "2021-12-24T10:09:07.024032Z"
    }
   },
   "outputs": [],
   "source": [
    "station = qc.Station(config_file=\"example.yaml\")"
   ]
  },
  {
   "cell_type": "code",
   "execution_count": 25,
   "id": "648aa74d",
   "metadata": {
    "execution": {
     "iopub.execute_input": "2021-12-24T10:09:07.031939Z",
     "iopub.status.busy": "2021-12-24T10:09:07.031360Z",
     "iopub.status.idle": "2021-12-24T10:09:07.068784Z",
     "shell.execute_reply": "2021-12-24T10:09:07.068310Z"
    }
   },
   "outputs": [],
   "source": [
    "lockin = station.load_lockin()\n",
    "dac = station.load_dac()\n",
    "device = station.load_device(station=station)"
   ]
  },
  {
   "cell_type": "code",
   "execution_count": 26,
   "id": "1ceb76e0",
   "metadata": {
    "execution": {
     "iopub.execute_input": "2021-12-24T10:09:07.075180Z",
     "iopub.status.busy": "2021-12-24T10:09:07.073566Z",
     "iopub.status.idle": "2021-12-24T10:09:07.078248Z",
     "shell.execute_reply": "2021-12-24T10:09:07.077692Z"
    }
   },
   "outputs": [
    {
     "name": "stdout",
     "output_type": "stream",
     "text": [
      "<MockDACChannel: dac_ch01 of MockDAC: dac>\n",
      "0.01\n"
     ]
    }
   ],
   "source": [
    "print(device.gate_1)\n",
    "print(device.gate_1.voltage.post_delay)"
   ]
  },
  {
   "cell_type": "code",
   "execution_count": 27,
   "id": "342415fc",
   "metadata": {
    "execution": {
     "iopub.execute_input": "2021-12-24T10:09:07.082642Z",
     "iopub.status.busy": "2021-12-24T10:09:07.082042Z",
     "iopub.status.idle": "2021-12-24T10:09:07.096073Z",
     "shell.execute_reply": "2021-12-24T10:09:07.095565Z"
    }
   },
   "outputs": [
    {
     "name": "stdout",
     "output_type": "stream",
     "text": [
      "0.0\n"
     ]
    },
    {
     "data": {
      "text/plain": [
       "-0.6"
      ]
     },
     "execution_count": 27,
     "metadata": {},
     "output_type": "execute_result"
    }
   ],
   "source": [
    "print(device.gate_1.voltage())\n",
    "device.gate_1.voltage(-0.6)\n",
    "device.gate_1.voltage()"
   ]
  },
  {
   "cell_type": "markdown",
   "id": "b7b11d8f",
   "metadata": {},
   "source": [
    "The second example adds a channel using a custom channel class, which takes the initial channel and its name as input and has a parameter current_valid_ranges."
   ]
  },
  {
   "cell_type": "code",
   "execution_count": 28,
   "id": "7bb833ea",
   "metadata": {
    "execution": {
     "iopub.execute_input": "2021-12-24T10:09:07.101786Z",
     "iopub.status.busy": "2021-12-24T10:09:07.101208Z",
     "iopub.status.idle": "2021-12-24T10:09:07.103917Z",
     "shell.execute_reply": "2021-12-24T10:09:07.104396Z"
    }
   },
   "outputs": [
    {
     "name": "stdout",
     "output_type": "stream",
     "text": [
      "Overwriting example.yaml\n"
     ]
    }
   ],
   "source": [
    "%%writefile example.yaml\n",
    "\n",
    "instruments:\n",
    "  lockin:\n",
    "    type: qcodes.tests.instrument_mocks.MockLockin\n",
    "\n",
    "  dac:\n",
    "    type: qcodes.tests.instrument_mocks.MockDAC   \n",
    "\n",
    "  device:\n",
    "    type: qcodes.instrument.delegate.DelegateInstrument\n",
    "    init:\n",
    "      parameters:\n",
    "        readout: lockin.X\n",
    "      channels:\n",
    "        type: qcodes.tests.instrument_mocks.MockCustomChannel\n",
    "        gate_1: \n",
    "          channel: dac.ch01\n",
    "          current_valid_range: [-0.5, 0]\n",
    "      set_initial_values_on_load: true\n",
    "      initial_values:\n",
    "        readout: 1e-5"
   ]
  },
  {
   "cell_type": "code",
   "execution_count": 29,
   "id": "e6368e1f",
   "metadata": {
    "execution": {
     "iopub.execute_input": "2021-12-24T10:09:07.109251Z",
     "iopub.status.busy": "2021-12-24T10:09:07.107889Z",
     "iopub.status.idle": "2021-12-24T10:09:07.110002Z",
     "shell.execute_reply": "2021-12-24T10:09:07.110458Z"
    }
   },
   "outputs": [],
   "source": [
    "lockin.close()\n",
    "dac.close()"
   ]
  },
  {
   "cell_type": "code",
   "execution_count": 30,
   "id": "6ccb7f52",
   "metadata": {
    "execution": {
     "iopub.execute_input": "2021-12-24T10:09:07.114391Z",
     "iopub.status.busy": "2021-12-24T10:09:07.113812Z",
     "iopub.status.idle": "2021-12-24T10:09:07.155252Z",
     "shell.execute_reply": "2021-12-24T10:09:07.154751Z"
    }
   },
   "outputs": [],
   "source": [
    "station = qc.Station(config_file=\"example.yaml\")\n",
    "lockin = station.load_lockin()\n",
    "dac = station.load_dac()"
   ]
  },
  {
   "cell_type": "code",
   "execution_count": 31,
   "id": "c8032ba4",
   "metadata": {
    "execution": {
     "iopub.execute_input": "2021-12-24T10:09:07.159189Z",
     "iopub.status.busy": "2021-12-24T10:09:07.158616Z",
     "iopub.status.idle": "2021-12-24T10:09:07.172798Z",
     "shell.execute_reply": "2021-12-24T10:09:07.173552Z"
    }
   },
   "outputs": [],
   "source": [
    "device = station.load_device(station=station)"
   ]
  },
  {
   "cell_type": "code",
   "execution_count": 32,
   "id": "1fcfa20e",
   "metadata": {
    "execution": {
     "iopub.execute_input": "2021-12-24T10:09:07.179344Z",
     "iopub.status.busy": "2021-12-24T10:09:07.178268Z",
     "iopub.status.idle": "2021-12-24T10:09:07.181694Z",
     "shell.execute_reply": "2021-12-24T10:09:07.181187Z"
    }
   },
   "outputs": [
    {
     "data": {
      "text/plain": [
       "<MockCustomChannel: dac_gate_1 of MockDAC: dac>"
      ]
     },
     "execution_count": 32,
     "metadata": {},
     "output_type": "execute_result"
    }
   ],
   "source": [
    "device.gate_1"
   ]
  },
  {
   "cell_type": "code",
   "execution_count": 33,
   "id": "02cb2f0e",
   "metadata": {
    "execution": {
     "iopub.execute_input": "2021-12-24T10:09:07.186831Z",
     "iopub.status.busy": "2021-12-24T10:09:07.185523Z",
     "iopub.status.idle": "2021-12-24T10:09:07.187555Z",
     "shell.execute_reply": "2021-12-24T10:09:07.188007Z"
    }
   },
   "outputs": [],
   "source": [
    "device.gate_1.voltage(-0.3)"
   ]
  },
  {
   "cell_type": "code",
   "execution_count": 34,
   "id": "775d0c59",
   "metadata": {
    "execution": {
     "iopub.execute_input": "2021-12-24T10:09:07.193219Z",
     "iopub.status.busy": "2021-12-24T10:09:07.192169Z",
     "iopub.status.idle": "2021-12-24T10:09:07.195505Z",
     "shell.execute_reply": "2021-12-24T10:09:07.195024Z"
    }
   },
   "outputs": [
    {
     "data": {
      "text/plain": [
       "-0.3"
      ]
     },
     "execution_count": 34,
     "metadata": {},
     "output_type": "execute_result"
    }
   ],
   "source": [
    "device.gate_1.voltage()"
   ]
  },
  {
   "cell_type": "markdown",
   "id": "a4734d72",
   "metadata": {},
   "source": [
    "The MockCustomChannel has a parameter `current_valid_range`."
   ]
  },
  {
   "cell_type": "code",
   "execution_count": 35,
   "id": "f9c673ea",
   "metadata": {
    "execution": {
     "iopub.execute_input": "2021-12-24T10:09:07.200715Z",
     "iopub.status.busy": "2021-12-24T10:09:07.200164Z",
     "iopub.status.idle": "2021-12-24T10:09:07.202808Z",
     "shell.execute_reply": "2021-12-24T10:09:07.203265Z"
    }
   },
   "outputs": [
    {
     "data": {
      "text/plain": [
       "[-0.5, 0]"
      ]
     },
     "execution_count": 35,
     "metadata": {},
     "output_type": "execute_result"
    }
   ],
   "source": [
    "device.gate_1.current_valid_range()"
   ]
  }
 ],
 "metadata": {
  "kernelspec": {
   "display_name": "Python 3.7.9 64-bit ('qcodes_fork': conda)",
   "name": "python379jvsc74a57bd02b540bc2d5f6bd8c1d4c354bd6559a26f5871610d8f84463e1d37eff37c7ba44"
  },
  "language_info": {
   "codemirror_mode": {
    "name": "ipython",
    "version": 3
   },
   "file_extension": ".py",
   "mimetype": "text/x-python",
   "name": "python",
   "nbconvert_exporter": "python",
   "pygments_lexer": "ipython3",
   "version": "3.9.9"
  }
 },
 "nbformat": 4,
 "nbformat_minor": 5
}
